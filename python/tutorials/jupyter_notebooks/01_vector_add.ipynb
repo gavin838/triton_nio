{
  "cells": [
    {
      "cell_type": "markdown",
      "source": [
        "# Installation & Versioning"
      ],
      "metadata": {
        "id": "7whD0jTtpK9A"
      }
    },
    {
      "cell_type": "markdown",
      "source": [
        "Use the function %matplotlib inline to enable the inline plotting in this notebook."
      ],
      "metadata": {
        "id": "9VC5cxNDpZFf"
      }
    },
    {
      "cell_type": "code",
      "execution_count": null,
      "metadata": {
        "id": "XL9UPRBShnMm"
      },
      "outputs": [],
      "source": [
        "%matplotlib inline"
      ]
    },
    {
      "cell_type": "markdown",
      "source": [
        "Install Triton via pip:"
      ],
      "metadata": {
        "id": "_fIvdsyMqaE5"
      }
    },
    {
      "cell_type": "code",
      "source": [
        "!pip install triton==2.0.0.dev20220206"
      ],
      "metadata": {
        "colab": {
          "base_uri": "https://localhost:8080/"
        },
        "id": "2BBwoJK-qWey",
        "outputId": "162e2668-bcce-4334-d0bb-5e556ab00d58"
      },
      "execution_count": null,
      "outputs": [
        {
          "output_type": "stream",
          "name": "stdout",
          "text": [
            "Requirement already satisfied: triton==2.0.0.dev20220206 in /usr/local/lib/python3.7/dist-packages (2.0.0.dev20220206)\n",
            "Requirement already satisfied: filelock in /usr/local/lib/python3.7/dist-packages (from triton==2.0.0.dev20220206) (3.6.0)\n",
            "Requirement already satisfied: cmake in /usr/local/lib/python3.7/dist-packages (from triton==2.0.0.dev20220206) (3.12.0)\n",
            "Requirement already satisfied: torch in /usr/local/lib/python3.7/dist-packages (from triton==2.0.0.dev20220206) (1.10.0+cu111)\n",
            "Requirement already satisfied: typing-extensions in /usr/local/lib/python3.7/dist-packages (from torch->triton==2.0.0.dev20220206) (3.10.0.2)\n"
          ]
        }
      ]
    },
    {
      "cell_type": "markdown",
      "metadata": {
        "id": "WWC6rnxchnMn"
      },
      "source": [
        "\n",
        "# Vector Addition\n",
        "In this tutorial, you will write a simple vector addition using Triton and learn about:\n",
        "\n",
        "- The basic programming model of Triton\n",
        "- The `triton.jit` decorator, which is used to define Triton kernels.\n",
        "- The best practices for validating and benchmarking your custom ops against native reference implementations\n"
      ]
    },
    {
      "cell_type": "markdown",
      "metadata": {
        "id": "hybS3015hnMq"
      },
      "source": [
        "## Compute Kernel\n",
        "\n"
      ]
    },
    {
      "cell_type": "code",
      "execution_count": null,
      "metadata": {
        "id": "ecTBdXv1hnMr"
      },
      "outputs": [],
      "source": [
        "import pkg_resources\n",
        "# Import from latest release tag==2.0.0.dev20220206\n",
        "pkg_resources.require(\"triton==2.0.0.dev20220206\")\n",
        "\n",
        "import torch\n",
        "import triton\n",
        "import triton.language as tl\n",
        "\n",
        "@triton.jit\n",
        "def add_kernel(\n",
        "    x_ptr,  # *Pointer* to first input vector\n",
        "    y_ptr,  # *Pointer* to second input vector\n",
        "    output_ptr,  # *Pointer* to output vector\n",
        "    n_elements,  # Size of the vector\n",
        "    BLOCK_SIZE: tl.constexpr,  # Number of elements each program should process\n",
        "                 # NOTE: `constexpr` so it can be used as a shape value\n",
        "):\n",
        "    # There are multiple 'program's processing different data. We identify which program\n",
        "    # we are here\n",
        "    pid = tl.program_id(axis=0)  # We use a 1D launch grid so axis is 0\n",
        "    # This program will process inputs that are offset from the initial data.\n",
        "    # for instance, if you had a vector of length 256 and block_size of 64, the programs\n",
        "    # would each access the elements [0:64, 64:128, 128:192, 192:256].\n",
        "    # Note that offsets is a list of pointers\n",
        "    block_start = pid * BLOCK_SIZE\n",
        "    offsets = block_start + tl.arange(0, BLOCK_SIZE)\n",
        "    # Create a mask to guard memory operations against out-of-bounds accesses\n",
        "    mask = offsets < n_elements\n",
        "    # Load x and y from DRAM, masking out any extra elements in case the input is not a\n",
        "    # multiple of the block size\n",
        "    x = tl.load(x_ptr + offsets, mask=mask)\n",
        "    y = tl.load(y_ptr + offsets, mask=mask)\n",
        "    output = x + y\n",
        "    # Write x + y back to DRAM\n",
        "    tl.store(output_ptr + offsets, output, mask=mask)"
      ]
    },
    {
      "cell_type": "markdown",
      "metadata": {
        "id": "CDrzmQYxhnMs"
      },
      "source": [
        "Let's also declare a helper function to (1) allocate the `z` tensor\n",
        "and (2) enqueue the above kernel with appropriate grid/block sizes.\n",
        "\n"
      ]
    },
    {
      "cell_type": "code",
      "execution_count": null,
      "metadata": {
        "id": "oIK9GsEahnMs"
      },
      "outputs": [],
      "source": [
        "def add(x: torch.Tensor, y: torch.Tensor):\n",
        "    # We need to preallocate the output\n",
        "    output = torch.empty_like(x)\n",
        "    assert x.is_cuda and y.is_cuda and output.is_cuda\n",
        "    n_elements = output.numel()\n",
        "    # The SPMD launch grid denotes the number of kernel instances that run in parallel.\n",
        "    # It is analogous to CUDA launch grids. It can be either Tuple[int], or Callable(metaparameters) -> Tuple[int]\n",
        "    # In this case, we use a 1D grid where the size is the number of blocks\n",
        "    grid = lambda meta: (triton.cdiv(n_elements, meta['BLOCK_SIZE']),)\n",
        "    # NOTE:\n",
        "    #  - each torch.tensor object is implicitly converted into a pointer to its first element.\n",
        "    #  - `triton.jit`'ed functions can be index with a launch grid to obtain a callable GPU kernel\n",
        "    #  - don't forget to pass meta-parameters as keywords arguments\n",
        "    add_kernel[grid](x, y, output, n_elements, BLOCK_SIZE=1024)\n",
        "    # We return a handle to z but, since `torch.cuda.synchronize()` hasn't been called, the kernel is still\n",
        "    # running asynchronously at this point.\n",
        "    return output"
      ]
    },
    {
      "cell_type": "markdown",
      "metadata": {
        "id": "4a0iIXkuhnMt"
      },
      "source": [
        "We can now use the above function to compute the element-wise sum of two `torch.tensor` objects and test its correctness:\n",
        "\n"
      ]
    },
    {
      "cell_type": "code",
      "execution_count": null,
      "metadata": {
        "colab": {
          "base_uri": "https://localhost:8080/"
        },
        "id": "I_bzPKwphnMu",
        "outputId": "37b384ae-47d9-4733-aad4-5ca41a1ad634"
      },
      "outputs": [
        {
          "output_type": "stream",
          "name": "stdout",
          "text": [
            "tensor([1.3713, 1.3076, 0.4940,  ..., 0.4024, 1.7918, 1.0686], device='cuda:0')\n",
            "tensor([1.3713, 1.3076, 0.4940,  ..., 0.4024, 1.7918, 1.0686], device='cuda:0')\n",
            "The maximum difference between torch and triton is 0.0\n"
          ]
        }
      ],
      "source": [
        "torch.manual_seed(0)\n",
        "size = 98432\n",
        "x = torch.rand(size, device='cuda')\n",
        "y = torch.rand(size, device='cuda')\n",
        "output_torch = x + y\n",
        "output_triton = add(x, y)\n",
        "print(output_torch)\n",
        "print(output_triton)\n",
        "print(\n",
        "    f'The maximum difference between torch and triton is '\n",
        "    f'{torch.max(torch.abs(output_torch - output_triton))}'\n",
        ")"
      ]
    },
    {
      "cell_type": "markdown",
      "metadata": {
        "id": "ds3rv03ChnMv"
      },
      "source": [
        "Seems like we're good to go!\n",
        "\n"
      ]
    },
    {
      "cell_type": "markdown",
      "metadata": {
        "id": "28I9jwOnhnMv"
      },
      "source": [
        "## Benchmark\n",
        "We can now benchmark our custom op on vectors of increasing sizes to get a sense of how it does relative to PyTorch.\n",
        "To make things easier, Triton has a set of built-in utilities that allow us to concisely plot the performance of your custom ops\n",
        "for different problem sizes.\n",
        "\n"
      ]
    },
    {
      "cell_type": "code",
      "execution_count": null,
      "metadata": {
        "id": "_aXsk526hnMw"
      },
      "outputs": [],
      "source": [
        "@triton.testing.perf_report(\n",
        "    triton.testing.Benchmark(\n",
        "        x_names=['size'],  # argument names to use as an x-axis for the plot\n",
        "        x_vals=[\n",
        "            2 ** i for i in range(12, 28, 1)\n",
        "        ],  # different possible values for `x_name`\n",
        "        x_log=True,  # x axis is logarithmic\n",
        "        line_arg='provider',  # argument name whose value corresponds to a different line in the plot\n",
        "        line_vals=['triton', 'torch'],  # possible values for `line_arg`\n",
        "        line_names=['Triton', 'Torch'],  # label name for the lines\n",
        "        styles=[('blue', '-'), ('green', '-')],  # line styles\n",
        "        ylabel='GB/s',  # label name for the y-axis\n",
        "        plot_name='vector-add-performance',  # name for the plot. Used also as a file name for saving the plot.\n",
        "        args={},  # values for function arguments not in `x_names` and `y_name`\n",
        "    )\n",
        ")\n",
        "def benchmark(size, provider):\n",
        "    x = torch.rand(size, device='cuda', dtype=torch.float32)\n",
        "    y = torch.rand(size, device='cuda', dtype=torch.float32)\n",
        "    if provider == 'torch':\n",
        "        ms, min_ms, max_ms = triton.testing.do_bench(lambda: x + y)\n",
        "    if provider == 'triton':\n",
        "        ms, min_ms, max_ms = triton.testing.do_bench(lambda: add(x, y))\n",
        "    gbps = lambda ms: 12 * size / ms * 1e-6\n",
        "    return gbps(ms), gbps(max_ms), gbps(min_ms)"
      ]
    },
    {
      "cell_type": "markdown",
      "metadata": {
        "id": "n6q7xnc5hnMw"
      },
      "source": [
        "We can now run the decorated function above. Pass `print_data=True` to see the performance number, `show_plots=True` to plot them, and/or\n",
        "`save_path='/path/to/results/' to save them to disk along with raw CSV data\n",
        "\n"
      ]
    },
    {
      "cell_type": "code",
      "execution_count": null,
      "metadata": {
        "colab": {
          "base_uri": "https://localhost:8080/",
          "height": 595
        },
        "id": "sMgPJWbYhnMw",
        "outputId": "e1fe9dbf-983e-4850-b058-9f3fad1d68d5"
      },
      "outputs": [
        {
          "output_type": "display_data",
          "data": {
            "image/png": "[encoded data removed]",
            "text/plain": [
              "<Figure size 432x288 with 1 Axes>"
            ]
          },
          "metadata": {
            "needs_background": "light"
          }
        },
        {
          "output_type": "stream",
          "name": "stdout",
          "text": [
            "vector-add-performance:\n",
            "           size      Triton       Torch\n",
            "0        4096.0   11.130435   12.000000\n",
            "1        8192.0   21.186207   21.333333\n",
            "2       16384.0   38.400001   35.929823\n",
            "3       32768.0   63.999998   63.999998\n",
            "4       65536.0  103.696202  102.828452\n",
            "5      131072.0  151.703707  152.645959\n",
            "6      262144.0  186.005674  187.603063\n",
            "7      524288.0  204.800005  197.794768\n",
            "8     1048576.0  220.289079  222.785263\n",
            "9     2097152.0  229.280464  231.849058\n",
            "10    4194304.0  234.808393  238.746817\n",
            "11    8388608.0  237.520986  242.221299\n",
            "12   16777216.0  239.173395  243.798182\n",
            "13   33554432.0  240.646269  243.904515\n",
            "14   67108864.0  240.941181  245.198475\n",
            "15  134217728.0  241.632306  244.918094\n"
          ]
        }
      ],
      "source": [
        "benchmark.run(print_data=True, show_plots=True)"
      ]
    }
  ],
  "metadata": {
    "kernelspec": {
      "display_name": "Python 3",
      "language": "python",
      "name": "python3"
    },
    "language_info": {
      "codemirror_mode": {
        "name": "ipython",
        "version": 3
      },
      "file_extension": ".py",
      "mimetype": "text/x-python",
      "name": "python",
      "nbconvert_exporter": "python",
      "pygments_lexer": "ipython3",
      "version": "3.8.10"
    },
    "colab": {
      "name": "01-vector-add.ipynb",
      "provenance": [],
      "collapsed_sections": []
    },
    "accelerator": "GPU"
  },
  "nbformat": 4,
  "nbformat_minor": 0
}