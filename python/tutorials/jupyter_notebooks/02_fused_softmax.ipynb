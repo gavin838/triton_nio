{
  "cells": [
    {
      "cell_type": "markdown",
      "source": [
        "# Installation & Versioning"
      ],
      "metadata": {
        "id": "3ntW9Lf0FHpN"
      }
    },
    {
      "cell_type": "markdown",
      "source": [
        "Use the function %matplotlib inline to enable the inline plotting in this notebook.\n"
      ],
      "metadata": {
        "id": "REdsd9ZRFOgb"
      }
    },
    {
      "cell_type": "code",
      "execution_count": 1,
      "metadata": {
        "id": "acQmp0pcFFs2"
      },
      "outputs": [],
      "source": [
        "%matplotlib inline"
      ]
    },
    {
      "cell_type": "markdown",
      "source": [
        "Install Triton via pip:"
      ],
      "metadata": {
        "id": "Xqx2GAHiFQ5X"
      }
    },
    {
      "cell_type": "code",
      "source": [
        "!pip install triton==2.0.0.dev20220206"
      ],
      "metadata": {
        "colab": {
          "base_uri": "https://localhost:8080/"
        },
        "id": "gGSrtI-VFSUR",
        "outputId": "3b776032-16c7-42ac-a04e-2a534f6387c4"
      },
      "execution_count": 2,
      "outputs": [
        {
          "output_type": "stream",
          "name": "stdout",
          "text": [
            "Collecting triton==2.0.0.dev20220206\n",
            "  Downloading triton-2.0.0.dev20220206-cp37-cp37m-manylinux_2_17_x86_64.manylinux2014_x86_64.whl (27.8 MB)\n",
            "\u001b[K     |████████████████████████████████| 27.8 MB 1.4 MB/s \n",
            "\u001b[?25hRequirement already satisfied: filelock in /usr/local/lib/python3.7/dist-packages (from triton==2.0.0.dev20220206) (3.6.0)\n",
            "Requirement already satisfied: torch in /usr/local/lib/python3.7/dist-packages (from triton==2.0.0.dev20220206) (1.10.0+cu111)\n",
            "Requirement already satisfied: cmake in /usr/local/lib/python3.7/dist-packages (from triton==2.0.0.dev20220206) (3.12.0)\n",
            "Requirement already satisfied: typing-extensions in /usr/local/lib/python3.7/dist-packages (from torch->triton==2.0.0.dev20220206) (3.10.0.2)\n",
            "Installing collected packages: triton\n",
            "Successfully installed triton-2.0.0.dev20220206\n"
          ]
        }
      ]
    },
    {
      "cell_type": "markdown",
      "metadata": {
        "id": "Dzjt8Bz0FFs3"
      },
      "source": [
        "\n",
        "# Fused Softmax\n",
        "In this tutorial, you will write a fused softmax operation that is significantly faster\n",
        "than PyTorch's native op for a particular class of matrices: those whose rows can fit in\n",
        "the GPU's SRAM.\n",
        "You will learn about:\n",
        "\n",
        "- The benefits of kernel fusion for bandwidth-bound operations.\n",
        "- Reduction operators in Triton.\n"
      ]
    },
    {
      "cell_type": "markdown",
      "metadata": {
        "id": "iurDPgvWFFs4"
      },
      "source": [
        "## Motivations\n",
        "Custom GPU kernels for elementwise additions are educationally valuable but won't get you very far in practice.\n",
        "Let us consider instead the case of a simple (numerically stabilized) softmax operation:\n",
        "\n"
      ]
    },
    {
      "cell_type": "code",
      "execution_count": 2,
      "metadata": {
        "id": "0lI-RRF3FFs5"
      },
      "outputs": [],
      "source": [
        "import pkg_resources\n",
        "# Import from latest release tag==2.0.0.dev20220206\n",
        "pkg_resources.require(\"triton==2.0.0.dev20220206\")\n",
        "\n",
        "import torch\n",
        "import triton\n",
        "import triton.language as tl\n",
        "\n",
        "@torch.jit.script\n",
        "def naive_softmax(x):\n",
        "    \"\"\"Compute row-wise softmax of X using native pytorch\n",
        "\n",
        "    We subtract the maximum element in order to avoid overflows. Softmax is invariant to\n",
        "    this shift.\n",
        "    \"\"\"\n",
        "    # read  MN elements ; write M  elements\n",
        "    x_max = x.max(dim=1)[0]\n",
        "    # read MN + M elements ; write MN elements\n",
        "    z = x - x_max[:, None]\n",
        "    # read  MN elements ; write MN elements\n",
        "    numerator = torch.exp(z)\n",
        "    # read  MN elements ; write M  elements\n",
        "    denominator = numerator.sum(dim=1)\n",
        "    # read MN + M elements ; write MN elements\n",
        "    ret = numerator / denominator[:, None]\n",
        "    # in total: read 5MN + 2M elements ; wrote 3MN + 2M elements\n",
        "    return ret"
      ]
    },
    {
      "cell_type": "markdown",
      "metadata": {
        "id": "KGbSVscbFFs5"
      },
      "source": [
        "When implemented naively in PyTorch, computing :code:`y = naive_softmax(x)` for $x \\in R^{M \\times N}$\n",
        "requires reading $5MN + 2M$ elements from DRAM and writing back $3MN + 2M$ elements.\n",
        "This is obviously wasteful; we'd prefer to have a custom \"fused\" kernel that only reads\n",
        "X once and does all the necessary computations on-chip.\n",
        "Doing so would require reading and writing back only $MN$ bytes, so we could\n",
        "expect a theoretical speed-up of ~4x (i.e., $(8MN + 4M) / 2MN$).\n",
        "The `torch.jit.script` flags aims to perform this kind of \"kernel fusion\" automatically\n",
        "but, as we will see later, it is still far from ideal.\n",
        "\n"
      ]
    },
    {
      "cell_type": "markdown",
      "metadata": {
        "id": "VKBPfPKdFFs5"
      },
      "source": [
        "## Compute Kernel\n",
        "Our softmax kernel works as follows: each program loads a row of the input matrix X,\n",
        "normalizes it and writes back the result to the output Y.\n",
        "Note that one important limitation of Triton is that each block must have a\n",
        "power-of-two number of elements, so we need to internally \"pad\" each row and guard the\n",
        "memory operations properly if we want to handle any possible input shapes:\n",
        "\n"
      ]
    },
    {
      "cell_type": "code",
      "execution_count": 3,
      "metadata": {
        "id": "5AfMwjNIFFs6"
      },
      "outputs": [],
      "source": [
        "@triton.jit\n",
        "def softmax_kernel(\n",
        "    output_ptr, input_ptr, input_row_stride, output_row_stride, n_cols,\n",
        "    BLOCK_SIZE: tl.constexpr\n",
        "):\n",
        "    # The rows of the softmax are independent, so we parallelize across those\n",
        "    row_idx = tl.program_id(0)\n",
        "    # The stride represents how much we need to increase the pointer to advance 1 row\n",
        "    row_start_ptr = input_ptr + row_idx * input_row_stride\n",
        "    # The block size is the next power of two greater than n_cols, so we can fit each\n",
        "    # row in a single block\n",
        "    col_offsets = tl.arange(0, BLOCK_SIZE)\n",
        "    input_ptrs = row_start_ptr + col_offsets\n",
        "    # Load the row into SRAM, using a mask since BLOCK_SIZE may be > than n_cols\n",
        "    row = tl.load(input_ptrs, mask=col_offsets < n_cols, other=-float('inf'))\n",
        "    # Substract maximum for numerical stability\n",
        "    row_minus_max = row - tl.max(row, axis=0)\n",
        "    # Note that exponentials in Triton are fast but approximate (i.e., think __expf in CUDA)\n",
        "    numerator = tl.exp(row_minus_max)\n",
        "    denominator = tl.sum(numerator, axis=0)\n",
        "    softmax_output = numerator / denominator\n",
        "    # Write back output to DRAM\n",
        "    output_row_start_ptr = output_ptr + row_idx * output_row_stride\n",
        "    output_ptrs = output_row_start_ptr + col_offsets\n",
        "    tl.store(output_ptrs, softmax_output, mask=col_offsets < n_cols)"
      ]
    },
    {
      "cell_type": "markdown",
      "metadata": {
        "id": "eBZEAxUvFFs6"
      },
      "source": [
        "We can create a helper function that enqueues the kernel and its (meta-)arguments for any given input tensor.\n",
        "\n"
      ]
    },
    {
      "cell_type": "code",
      "execution_count": 5,
      "metadata": {
        "id": "7qzfJdVzFFs6"
      },
      "outputs": [],
      "source": [
        "def softmax(x):\n",
        "    n_rows, n_cols = x.shape\n",
        "    # The block size is the smallest power of two greater than the number of columns in `x`\n",
        "    BLOCK_SIZE = triton.next_power_of_2(n_cols)\n",
        "    # Another trick we can use is to ask the compiler to use more threads per row by\n",
        "    # increasing the number of warps (`num_warps`) over which each row is distributed.\n",
        "    # You will see in the next tutorial how to auto-tune this value in a more natural\n",
        "    # way so you don't have to come up with manual heuristics yourself.\n",
        "    num_warps = 4\n",
        "    if BLOCK_SIZE >= 2048:\n",
        "        num_warps = 8\n",
        "    if BLOCK_SIZE >= 4096:\n",
        "        num_warps = 16\n",
        "    # Allocate output\n",
        "    y = torch.empty_like(x)\n",
        "    # Enqueue kernel. The 1D launch grid is simple: we have one kernel instance per row o\n",
        "    # f the input matrix\n",
        "    softmax_kernel[(n_rows,)](\n",
        "        y,\n",
        "        x,\n",
        "        x.stride(0),\n",
        "        y.stride(0),\n",
        "        n_cols,\n",
        "        num_warps=num_warps,\n",
        "        BLOCK_SIZE=BLOCK_SIZE,\n",
        "    )\n",
        "    return y"
      ]
    },
    {
      "cell_type": "markdown",
      "metadata": {
        "id": "uiak_fYiFFs7"
      },
      "source": [
        "## Unit Test\n",
        "\n"
      ]
    },
    {
      "cell_type": "markdown",
      "metadata": {
        "id": "OTmB14ffFFs7"
      },
      "source": [
        "We make sure that we test our kernel on a matrix with an irregular number of rows and columns.\n",
        "This will allow us to verify that our padding mechanism works.\n",
        "\n"
      ]
    },
    {
      "cell_type": "code",
      "execution_count": 6,
      "metadata": {
        "colab": {
          "base_uri": "https://localhost:8080/",
          "height": 236
        },
        "id": "qUj8UETwFFs7",
        "outputId": "baa58ee6-6ec9-48b2-d167-0779e6fbb543"
      },
      "outputs": [
        {
          "output_type": "error",
          "ename": "NameError",
          "evalue": "ignored",
          "traceback": [
            "\u001b[0;31m---------------------------------------------------------------------------\u001b[0m",
            "\u001b[0;31mNameError\u001b[0m                                 Traceback (most recent call last)",
            "\u001b[0;32m<ipython-input-6-ef9e872f9fcd>\u001b[0m in \u001b[0;36m<module>\u001b[0;34m()\u001b[0m\n\u001b[1;32m      1\u001b[0m \u001b[0mtorch\u001b[0m\u001b[0;34m.\u001b[0m\u001b[0mmanual_seed\u001b[0m\u001b[0;34m(\u001b[0m\u001b[0;36m0\u001b[0m\u001b[0;34m)\u001b[0m\u001b[0;34m\u001b[0m\u001b[0;34m\u001b[0m\u001b[0m\n\u001b[1;32m      2\u001b[0m \u001b[0mx\u001b[0m \u001b[0;34m=\u001b[0m \u001b[0mtorch\u001b[0m\u001b[0;34m.\u001b[0m\u001b[0mrandn\u001b[0m\u001b[0;34m(\u001b[0m\u001b[0;36m1823\u001b[0m\u001b[0;34m,\u001b[0m \u001b[0;36m781\u001b[0m\u001b[0;34m,\u001b[0m \u001b[0mdevice\u001b[0m\u001b[0;34m=\u001b[0m\u001b[0;34m'cuda'\u001b[0m\u001b[0;34m)\u001b[0m\u001b[0;34m\u001b[0m\u001b[0;34m\u001b[0m\u001b[0m\n\u001b[0;32m----> 3\u001b[0;31m \u001b[0my_triton\u001b[0m \u001b[0;34m=\u001b[0m \u001b[0msoftmax\u001b[0m\u001b[0;34m(\u001b[0m\u001b[0mx\u001b[0m\u001b[0;34m)\u001b[0m\u001b[0;34m\u001b[0m\u001b[0;34m\u001b[0m\u001b[0m\n\u001b[0m\u001b[1;32m      4\u001b[0m \u001b[0my_torch\u001b[0m \u001b[0;34m=\u001b[0m \u001b[0mtorch\u001b[0m\u001b[0;34m.\u001b[0m\u001b[0msoftmax\u001b[0m\u001b[0;34m(\u001b[0m\u001b[0mx\u001b[0m\u001b[0;34m,\u001b[0m \u001b[0maxis\u001b[0m\u001b[0;34m=\u001b[0m\u001b[0;36m1\u001b[0m\u001b[0;34m)\u001b[0m\u001b[0;34m\u001b[0m\u001b[0;34m\u001b[0m\u001b[0m\n\u001b[1;32m      5\u001b[0m \u001b[0;32massert\u001b[0m \u001b[0mtorch\u001b[0m\u001b[0;34m.\u001b[0m\u001b[0mallclose\u001b[0m\u001b[0;34m(\u001b[0m\u001b[0my_triton\u001b[0m\u001b[0;34m,\u001b[0m \u001b[0my_torch\u001b[0m\u001b[0;34m)\u001b[0m\u001b[0;34m,\u001b[0m \u001b[0;34m(\u001b[0m\u001b[0my_triton\u001b[0m\u001b[0;34m,\u001b[0m \u001b[0my_torch\u001b[0m\u001b[0;34m)\u001b[0m\u001b[0;34m\u001b[0m\u001b[0;34m\u001b[0m\u001b[0m\n",
            "\u001b[0;31mNameError\u001b[0m: name 'softmax' is not defined"
          ]
        }
      ],
      "source": [
        "torch.manual_seed(0)\n",
        "x = torch.randn(1823, 781, device='cuda')\n",
        "y_triton = softmax(x)\n",
        "y_torch = torch.softmax(x, axis=1)\n",
        "assert torch.allclose(y_triton, y_torch), (y_triton, y_torch)"
      ]
    },
    {
      "cell_type": "markdown",
      "metadata": {
        "id": "27858XqbFFs7"
      },
      "source": [
        "As expected, the results are identical.\n",
        "\n"
      ]
    },
    {
      "cell_type": "markdown",
      "metadata": {
        "id": "SOM0hFtxFFs7"
      },
      "source": [
        "## Benchmark\n",
        "Here we will benchmark our operation as a function of the number of columns in the input matrix -- assuming 4096 rows.\n",
        "We will then compare its performance against (1) :code:`torch.softmax` and (2) the :code:`naive_softmax` defined above.\n",
        "\n"
      ]
    },
    {
      "cell_type": "code",
      "execution_count": 7,
      "metadata": {
        "colab": {
          "base_uri": "https://localhost:8080/",
          "height": 346
        },
        "id": "XHTVq5jFFFs7",
        "outputId": "6c9f57cc-5304-4012-af77-577d7353a3ea"
      },
      "outputs": [
        {
          "output_type": "error",
          "ename": "NameError",
          "evalue": "ignored",
          "traceback": [
            "\u001b[0;31m---------------------------------------------------------------------------\u001b[0m",
            "\u001b[0;31mNameError\u001b[0m                                 Traceback (most recent call last)",
            "\u001b[0;32m<ipython-input-7-633a83d2ff74>\u001b[0m in \u001b[0;36m<module>\u001b[0;34m()\u001b[0m\n\u001b[1;32m     34\u001b[0m \u001b[0;34m\u001b[0m\u001b[0m\n\u001b[1;32m     35\u001b[0m \u001b[0;34m\u001b[0m\u001b[0m\n\u001b[0;32m---> 36\u001b[0;31m \u001b[0mbenchmark\u001b[0m\u001b[0;34m.\u001b[0m\u001b[0mrun\u001b[0m\u001b[0;34m(\u001b[0m\u001b[0mshow_plots\u001b[0m\u001b[0;34m=\u001b[0m\u001b[0;32mTrue\u001b[0m\u001b[0;34m,\u001b[0m \u001b[0mprint_data\u001b[0m\u001b[0;34m=\u001b[0m\u001b[0;32mTrue\u001b[0m\u001b[0;34m)\u001b[0m\u001b[0;34m\u001b[0m\u001b[0;34m\u001b[0m\u001b[0m\n\u001b[0m",
            "\u001b[0;32m/usr/local/lib/python3.7/dist-packages/triton/testing.py\u001b[0m in \u001b[0;36mrun\u001b[0;34m(self, show_plots, print_data, save_path)\u001b[0m\n\u001b[1;32m    304\u001b[0m             \u001b[0mhtml\u001b[0m\u001b[0;34m.\u001b[0m\u001b[0mwrite\u001b[0m\u001b[0;34m(\u001b[0m\u001b[0;34m\"<html><body>\\n\"\u001b[0m\u001b[0;34m)\u001b[0m\u001b[0;34m\u001b[0m\u001b[0;34m\u001b[0m\u001b[0m\n\u001b[1;32m    305\u001b[0m         \u001b[0;32mfor\u001b[0m \u001b[0mbench\u001b[0m \u001b[0;32min\u001b[0m \u001b[0mbenchmarks\u001b[0m\u001b[0;34m:\u001b[0m\u001b[0;34m\u001b[0m\u001b[0;34m\u001b[0m\u001b[0m\n\u001b[0;32m--> 306\u001b[0;31m             \u001b[0mself\u001b[0m\u001b[0;34m.\u001b[0m\u001b[0m_run\u001b[0m\u001b[0;34m(\u001b[0m\u001b[0mbench\u001b[0m\u001b[0;34m,\u001b[0m \u001b[0msave_path\u001b[0m\u001b[0;34m,\u001b[0m \u001b[0mshow_plots\u001b[0m\u001b[0;34m,\u001b[0m \u001b[0mprint_data\u001b[0m\u001b[0;34m)\u001b[0m\u001b[0;34m\u001b[0m\u001b[0;34m\u001b[0m\u001b[0m\n\u001b[0m\u001b[1;32m    307\u001b[0m             \u001b[0;32mif\u001b[0m \u001b[0msave_path\u001b[0m\u001b[0;34m:\u001b[0m\u001b[0;34m\u001b[0m\u001b[0;34m\u001b[0m\u001b[0m\n\u001b[1;32m    308\u001b[0m                 \u001b[0mhtml\u001b[0m\u001b[0;34m.\u001b[0m\u001b[0mwrite\u001b[0m\u001b[0;34m(\u001b[0m\u001b[0;34mf\"<image src=\\\"{bench.plot_name}.png\\\"/>\\n\"\u001b[0m\u001b[0;34m)\u001b[0m\u001b[0;34m\u001b[0m\u001b[0;34m\u001b[0m\u001b[0m\n",
            "\u001b[0;32m/usr/local/lib/python3.7/dist-packages/triton/testing.py\u001b[0m in \u001b[0;36m_run\u001b[0;34m(self, bench, save_path, show_plots, print_data)\u001b[0m\n\u001b[1;32m    259\u001b[0m             \u001b[0mrow_mean\u001b[0m\u001b[0;34m,\u001b[0m \u001b[0mrow_min\u001b[0m\u001b[0;34m,\u001b[0m \u001b[0mrow_max\u001b[0m \u001b[0;34m=\u001b[0m \u001b[0;34m[\u001b[0m\u001b[0;34m]\u001b[0m\u001b[0;34m,\u001b[0m \u001b[0;34m[\u001b[0m\u001b[0;34m]\u001b[0m\u001b[0;34m,\u001b[0m \u001b[0;34m[\u001b[0m\u001b[0;34m]\u001b[0m\u001b[0;34m\u001b[0m\u001b[0;34m\u001b[0m\u001b[0m\n\u001b[1;32m    260\u001b[0m             \u001b[0;32mfor\u001b[0m \u001b[0my\u001b[0m \u001b[0;32min\u001b[0m \u001b[0mbench\u001b[0m\u001b[0;34m.\u001b[0m\u001b[0mline_vals\u001b[0m\u001b[0;34m:\u001b[0m\u001b[0;34m\u001b[0m\u001b[0;34m\u001b[0m\u001b[0m\n\u001b[0;32m--> 261\u001b[0;31m                 \u001b[0mret\u001b[0m \u001b[0;34m=\u001b[0m \u001b[0mself\u001b[0m\u001b[0;34m.\u001b[0m\u001b[0mfn\u001b[0m\u001b[0;34m(\u001b[0m\u001b[0;34m**\u001b[0m\u001b[0mx_args\u001b[0m\u001b[0;34m,\u001b[0m \u001b[0;34m**\u001b[0m\u001b[0;34m{\u001b[0m\u001b[0mbench\u001b[0m\u001b[0;34m.\u001b[0m\u001b[0mline_arg\u001b[0m\u001b[0;34m:\u001b[0m \u001b[0my\u001b[0m\u001b[0;34m}\u001b[0m\u001b[0;34m,\u001b[0m \u001b[0;34m**\u001b[0m\u001b[0mbench\u001b[0m\u001b[0;34m.\u001b[0m\u001b[0margs\u001b[0m\u001b[0;34m)\u001b[0m\u001b[0;34m\u001b[0m\u001b[0;34m\u001b[0m\u001b[0m\n\u001b[0m\u001b[1;32m    262\u001b[0m                 \u001b[0;32mtry\u001b[0m\u001b[0;34m:\u001b[0m\u001b[0;34m\u001b[0m\u001b[0;34m\u001b[0m\u001b[0m\n\u001b[1;32m    263\u001b[0m                     \u001b[0my_mean\u001b[0m\u001b[0;34m,\u001b[0m \u001b[0my_min\u001b[0m\u001b[0;34m,\u001b[0m \u001b[0my_max\u001b[0m \u001b[0;34m=\u001b[0m \u001b[0mret\u001b[0m\u001b[0;34m\u001b[0m\u001b[0;34m\u001b[0m\u001b[0m\n",
            "\u001b[0;32m<ipython-input-7-633a83d2ff74>\u001b[0m in \u001b[0;36mbenchmark\u001b[0;34m(M, N, provider)\u001b[0m\n\u001b[1;32m     27\u001b[0m         \u001b[0mms\u001b[0m\u001b[0;34m,\u001b[0m \u001b[0mmin_ms\u001b[0m\u001b[0;34m,\u001b[0m \u001b[0mmax_ms\u001b[0m \u001b[0;34m=\u001b[0m \u001b[0mtriton\u001b[0m\u001b[0;34m.\u001b[0m\u001b[0mtesting\u001b[0m\u001b[0;34m.\u001b[0m\u001b[0mdo_bench\u001b[0m\u001b[0;34m(\u001b[0m\u001b[0;32mlambda\u001b[0m\u001b[0;34m:\u001b[0m \u001b[0mtorch\u001b[0m\u001b[0;34m.\u001b[0m\u001b[0msoftmax\u001b[0m\u001b[0;34m(\u001b[0m\u001b[0mx\u001b[0m\u001b[0;34m,\u001b[0m \u001b[0maxis\u001b[0m\u001b[0;34m=\u001b[0m\u001b[0;34m-\u001b[0m\u001b[0;36m1\u001b[0m\u001b[0;34m)\u001b[0m\u001b[0;34m)\u001b[0m\u001b[0;34m\u001b[0m\u001b[0;34m\u001b[0m\u001b[0m\n\u001b[1;32m     28\u001b[0m     \u001b[0;32mif\u001b[0m \u001b[0mprovider\u001b[0m \u001b[0;34m==\u001b[0m \u001b[0;34m'triton'\u001b[0m\u001b[0;34m:\u001b[0m\u001b[0;34m\u001b[0m\u001b[0;34m\u001b[0m\u001b[0m\n\u001b[0;32m---> 29\u001b[0;31m         \u001b[0mms\u001b[0m\u001b[0;34m,\u001b[0m \u001b[0mmin_ms\u001b[0m\u001b[0;34m,\u001b[0m \u001b[0mmax_ms\u001b[0m \u001b[0;34m=\u001b[0m \u001b[0mtriton\u001b[0m\u001b[0;34m.\u001b[0m\u001b[0mtesting\u001b[0m\u001b[0;34m.\u001b[0m\u001b[0mdo_bench\u001b[0m\u001b[0;34m(\u001b[0m\u001b[0;32mlambda\u001b[0m\u001b[0;34m:\u001b[0m \u001b[0msoftmax\u001b[0m\u001b[0;34m(\u001b[0m\u001b[0mx\u001b[0m\u001b[0;34m)\u001b[0m\u001b[0;34m)\u001b[0m\u001b[0;34m\u001b[0m\u001b[0;34m\u001b[0m\u001b[0m\n\u001b[0m\u001b[1;32m     30\u001b[0m     \u001b[0;32mif\u001b[0m \u001b[0mprovider\u001b[0m \u001b[0;34m==\u001b[0m \u001b[0;34m'torch-jit'\u001b[0m\u001b[0;34m:\u001b[0m\u001b[0;34m\u001b[0m\u001b[0;34m\u001b[0m\u001b[0m\n\u001b[1;32m     31\u001b[0m         \u001b[0mms\u001b[0m\u001b[0;34m,\u001b[0m \u001b[0mmin_ms\u001b[0m\u001b[0;34m,\u001b[0m \u001b[0mmax_ms\u001b[0m \u001b[0;34m=\u001b[0m \u001b[0mtriton\u001b[0m\u001b[0;34m.\u001b[0m\u001b[0mtesting\u001b[0m\u001b[0;34m.\u001b[0m\u001b[0mdo_bench\u001b[0m\u001b[0;34m(\u001b[0m\u001b[0;32mlambda\u001b[0m\u001b[0;34m:\u001b[0m \u001b[0mnaive_softmax\u001b[0m\u001b[0;34m(\u001b[0m\u001b[0mx\u001b[0m\u001b[0;34m)\u001b[0m\u001b[0;34m)\u001b[0m\u001b[0;34m\u001b[0m\u001b[0;34m\u001b[0m\u001b[0m\n",
            "\u001b[0;32m/usr/local/lib/python3.7/dist-packages/triton/testing.py\u001b[0m in \u001b[0;36mdo_bench\u001b[0;34m(fn, warmup, rep, grad_to_none, percentiles, record_clocks)\u001b[0m\n\u001b[1;32m    133\u001b[0m \u001b[0;34m\u001b[0m\u001b[0m\n\u001b[1;32m    134\u001b[0m     \u001b[0;31m# Estimate the runtime of the function\u001b[0m\u001b[0;34m\u001b[0m\u001b[0;34m\u001b[0m\u001b[0;34m\u001b[0m\u001b[0m\n\u001b[0;32m--> 135\u001b[0;31m     \u001b[0mfn\u001b[0m\u001b[0;34m(\u001b[0m\u001b[0;34m)\u001b[0m\u001b[0;34m\u001b[0m\u001b[0;34m\u001b[0m\u001b[0m\n\u001b[0m\u001b[1;32m    136\u001b[0m     \u001b[0mtorch\u001b[0m\u001b[0;34m.\u001b[0m\u001b[0mcuda\u001b[0m\u001b[0;34m.\u001b[0m\u001b[0msynchronize\u001b[0m\u001b[0;34m(\u001b[0m\u001b[0;34m)\u001b[0m\u001b[0;34m\u001b[0m\u001b[0;34m\u001b[0m\u001b[0m\n\u001b[1;32m    137\u001b[0m     \u001b[0mstart_event\u001b[0m \u001b[0;34m=\u001b[0m \u001b[0mtorch\u001b[0m\u001b[0;34m.\u001b[0m\u001b[0mcuda\u001b[0m\u001b[0;34m.\u001b[0m\u001b[0mEvent\u001b[0m\u001b[0;34m(\u001b[0m\u001b[0menable_timing\u001b[0m\u001b[0;34m=\u001b[0m\u001b[0;32mTrue\u001b[0m\u001b[0;34m)\u001b[0m\u001b[0;34m\u001b[0m\u001b[0;34m\u001b[0m\u001b[0m\n",
            "\u001b[0;32m<ipython-input-7-633a83d2ff74>\u001b[0m in \u001b[0;36m<lambda>\u001b[0;34m()\u001b[0m\n\u001b[1;32m     27\u001b[0m         \u001b[0mms\u001b[0m\u001b[0;34m,\u001b[0m \u001b[0mmin_ms\u001b[0m\u001b[0;34m,\u001b[0m \u001b[0mmax_ms\u001b[0m \u001b[0;34m=\u001b[0m \u001b[0mtriton\u001b[0m\u001b[0;34m.\u001b[0m\u001b[0mtesting\u001b[0m\u001b[0;34m.\u001b[0m\u001b[0mdo_bench\u001b[0m\u001b[0;34m(\u001b[0m\u001b[0;32mlambda\u001b[0m\u001b[0;34m:\u001b[0m \u001b[0mtorch\u001b[0m\u001b[0;34m.\u001b[0m\u001b[0msoftmax\u001b[0m\u001b[0;34m(\u001b[0m\u001b[0mx\u001b[0m\u001b[0;34m,\u001b[0m \u001b[0maxis\u001b[0m\u001b[0;34m=\u001b[0m\u001b[0;34m-\u001b[0m\u001b[0;36m1\u001b[0m\u001b[0;34m)\u001b[0m\u001b[0;34m)\u001b[0m\u001b[0;34m\u001b[0m\u001b[0;34m\u001b[0m\u001b[0m\n\u001b[1;32m     28\u001b[0m     \u001b[0;32mif\u001b[0m \u001b[0mprovider\u001b[0m \u001b[0;34m==\u001b[0m \u001b[0;34m'triton'\u001b[0m\u001b[0;34m:\u001b[0m\u001b[0;34m\u001b[0m\u001b[0;34m\u001b[0m\u001b[0m\n\u001b[0;32m---> 29\u001b[0;31m         \u001b[0mms\u001b[0m\u001b[0;34m,\u001b[0m \u001b[0mmin_ms\u001b[0m\u001b[0;34m,\u001b[0m \u001b[0mmax_ms\u001b[0m \u001b[0;34m=\u001b[0m \u001b[0mtriton\u001b[0m\u001b[0;34m.\u001b[0m\u001b[0mtesting\u001b[0m\u001b[0;34m.\u001b[0m\u001b[0mdo_bench\u001b[0m\u001b[0;34m(\u001b[0m\u001b[0;32mlambda\u001b[0m\u001b[0;34m:\u001b[0m \u001b[0msoftmax\u001b[0m\u001b[0;34m(\u001b[0m\u001b[0mx\u001b[0m\u001b[0;34m)\u001b[0m\u001b[0;34m)\u001b[0m\u001b[0;34m\u001b[0m\u001b[0;34m\u001b[0m\u001b[0m\n\u001b[0m\u001b[1;32m     30\u001b[0m     \u001b[0;32mif\u001b[0m \u001b[0mprovider\u001b[0m \u001b[0;34m==\u001b[0m \u001b[0;34m'torch-jit'\u001b[0m\u001b[0;34m:\u001b[0m\u001b[0;34m\u001b[0m\u001b[0;34m\u001b[0m\u001b[0m\n\u001b[1;32m     31\u001b[0m         \u001b[0mms\u001b[0m\u001b[0;34m,\u001b[0m \u001b[0mmin_ms\u001b[0m\u001b[0;34m,\u001b[0m \u001b[0mmax_ms\u001b[0m \u001b[0;34m=\u001b[0m \u001b[0mtriton\u001b[0m\u001b[0;34m.\u001b[0m\u001b[0mtesting\u001b[0m\u001b[0;34m.\u001b[0m\u001b[0mdo_bench\u001b[0m\u001b[0;34m(\u001b[0m\u001b[0;32mlambda\u001b[0m\u001b[0;34m:\u001b[0m \u001b[0mnaive_softmax\u001b[0m\u001b[0;34m(\u001b[0m\u001b[0mx\u001b[0m\u001b[0;34m)\u001b[0m\u001b[0;34m)\u001b[0m\u001b[0;34m\u001b[0m\u001b[0;34m\u001b[0m\u001b[0m\n",
            "\u001b[0;31mNameError\u001b[0m: name 'softmax' is not defined"
          ]
        }
      ],
      "source": [
        "@triton.testing.perf_report(\n",
        "    triton.testing.Benchmark(\n",
        "        x_names=['N'],  # argument names to use as an x-axis for the plot\n",
        "        x_vals=[\n",
        "            128 * i for i in range(2, 100)\n",
        "        ],  # different possible values for `x_name`\n",
        "        line_arg='provider',  # argument name whose value corresponds to a different line in the plot\n",
        "        line_vals=[\n",
        "            'triton',\n",
        "            'torch-native',\n",
        "            'torch-jit',\n",
        "        ],  # possible values for `line_arg``\n",
        "        line_names=[\n",
        "            \"Triton\",\n",
        "            \"Torch (native)\",\n",
        "            \"Torch (jit)\",\n",
        "        ],  # label name for the lines\n",
        "        styles=[('blue', '-'), ('green', '-'), ('green', '--')],  # line styles\n",
        "        ylabel=\"GB/s\",  # label name for the y-axis\n",
        "        plot_name=\"softmax-performance\",  # name for the plot. Used also as a file name for saving the plot.\n",
        "        args={'M': 4096},  # values for function arguments not in `x_names` and `y_name`\n",
        "    )\n",
        ")\n",
        "def benchmark(M, N, provider):\n",
        "    x = torch.randn(M, N, device='cuda', dtype=torch.float32)\n",
        "    if provider == 'torch-native':\n",
        "        ms, min_ms, max_ms = triton.testing.do_bench(lambda: torch.softmax(x, axis=-1))\n",
        "    if provider == 'triton':\n",
        "        ms, min_ms, max_ms = triton.testing.do_bench(lambda: softmax(x))\n",
        "    if provider == 'torch-jit':\n",
        "        ms, min_ms, max_ms = triton.testing.do_bench(lambda: naive_softmax(x))\n",
        "    gbps = lambda ms: 2 * x.nelement() * x.element_size() * 1e-9 / (ms * 1e-3)\n",
        "    return gbps(ms), gbps(max_ms), gbps(min_ms)\n",
        "\n",
        "\n",
        "benchmark.run(show_plots=True, print_data=True)"
      ]
    },
    {
      "cell_type": "markdown",
      "metadata": {
        "id": "js9c3QLjFFs7"
      },
      "source": [
        "In the above plot, we can see that:\n",
        "\n",
        " - Triton is 4x faster than the Torch JIT. This confirms our suspicions that the Torch JIT does not do any fusion here.\n",
        " - Triton is noticeably faster than :code:`torch.softmax` -- in addition to being **easier to read, understand and maintain**.\n",
        "   Note however that the PyTorch `softmax` operation is more general and will works on tensors of any shape.\n",
        "\n"
      ]
    }
  ],
  "metadata": {
    "kernelspec": {
      "display_name": "Python 3",
      "language": "python",
      "name": "python3"
    },
    "language_info": {
      "codemirror_mode": {
        "name": "ipython",
        "version": 3
      },
      "file_extension": ".py",
      "mimetype": "text/x-python",
      "name": "python",
      "nbconvert_exporter": "python",
      "pygments_lexer": "ipython3",
      "version": "3.8.10"
    },
    "colab": {
      "name": "02-fused-softmax.ipynb",
      "provenance": []
    },
    "accelerator": "GPU"
  },
  "nbformat": 4,
  "nbformat_minor": 0
}