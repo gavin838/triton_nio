{
  "cells": [
    {
      "cell_type": "markdown",
      "source": [
        "# Installation & Versioning"
      ],
      "metadata": {
        "id": "iA9wyj2BGpxy"
      }
    },
    {
      "cell_type": "markdown",
      "source": [
        "Use the function %matplotlib inline to enable the inline plotting in this notebook."
      ],
      "metadata": {
        "id": "Nl6W-_ymGtWq"
      }
    },
    {
      "cell_type": "code",
      "execution_count": 1,
      "metadata": {
        "id": "n-LH0flnGlAu"
      },
      "outputs": [],
      "source": [
        "%matplotlib inline"
      ]
    },
    {
      "cell_type": "markdown",
      "source": [
        "Install Triton via pip:"
      ],
      "metadata": {
        "id": "KLVCFrQhGypO"
      }
    },
    {
      "cell_type": "code",
      "source": [
        "!pip install triton==2.0.0.dev20220206"
      ],
      "metadata": {
        "colab": {
          "base_uri": "https://localhost:8080/"
        },
        "id": "18ZxHo_sGvq2",
        "outputId": "615250dd-8da2-481f-de21-6740da17d93f"
      },
      "execution_count": 2,
      "outputs": [
        {
          "output_type": "stream",
          "name": "stdout",
          "text": [
            "Requirement already satisfied: triton==2.0.0.dev20220206 in /usr/local/lib/python3.7/dist-packages (2.0.0.dev20220206)\n",
            "Requirement already satisfied: torch in /usr/local/lib/python3.7/dist-packages (from triton==2.0.0.dev20220206) (1.10.0+cu111)\n",
            "Requirement already satisfied: filelock in /usr/local/lib/python3.7/dist-packages (from triton==2.0.0.dev20220206) (3.6.0)\n",
            "Requirement already satisfied: cmake in /usr/local/lib/python3.7/dist-packages (from triton==2.0.0.dev20220206) (3.12.0)\n",
            "Requirement already satisfied: typing-extensions in /usr/local/lib/python3.7/dist-packages (from torch->triton==2.0.0.dev20220206) (3.10.0.2)\n"
          ]
        }
      ]
    },
    {
      "cell_type": "markdown",
      "metadata": {
        "id": "7p9rBnewGlAv"
      },
      "source": [
        "\n",
        "# Matrix Multiplication\n",
        "In this tutorial, you will write a 25-lines high-performance FP16 matrix multiplication\n",
        "kernel that achieves performance on par with cuBLAS.\n",
        "You will specifically learn about:\n",
        "\n",
        "- Block-level matrix multiplications\n",
        "- Multi-dimensional pointer arithmetic\n",
        "- Program re-ordering for improved L2 cache hit rate\n",
        "- Automatic performance tuning\n"
      ]
    },
    {
      "cell_type": "markdown",
      "metadata": {
        "id": "F_eBCp6FGlAx"
      },
      "source": [
        "## Motivations\n",
        "Matrix multiplications are a key building block of most modern high-performance computing systems.\n",
        "They are notoriously hard to optimize, hence their implementation is generally done by\n",
        "hardware vendors themselves as part of so-called \"kernel libraries\" (e.g., cuBLAS).\n",
        "Unfortunately, these libraries are often proprietary and cannot be easily customized\n",
        "to accomodate the needs of modern deep learning workloads (e.g., fused activation functions).\n",
        "In this tutorial, you will learn how to implement efficient matrix multiplications by\n",
        "yourself with Triton, in a way that is easy to customize and extend.\n",
        "\n",
        "Roughly speaking, the kernel that we will write will implement the following blocked\n",
        "algorithm to multiply a (M, K) by a (K, N) matrix:\n",
        "\n",
        " .. code-block:: python\n",
        "\n",
        "   # do in parallel\n",
        "   for m in range(0, M, BLOCK_SIZE_M):\n",
        "     # do in parallel\n",
        "     for n in range(0, N, BLOCK_SIZE_N):\n",
        "       acc = zeros((BLOCK_SIZE_M, BLOCK_SIZE_N), dtype=float32)\n",
        "       for k in range(0, K, BLOCK_SIZE_K):\n",
        "         a = A[m : m+BLOCK_SIZE_M, k : k+BLOCK_SIZE_K]\n",
        "         b = B[k : k+BLOCK_SIZE_K, n : n+BLOCK_SIZE_N]\n",
        "         acc += dot(a, b)\n",
        "       C[m : m+BLOCK_SIZE_M, n : n+BLOCK_SIZE_N] = acc;\n",
        "\n",
        "where each iteration of the doubly-nested for-loop is performed by a dedicated Triton program instance.\n",
        "\n"
      ]
    },
    {
      "cell_type": "markdown",
      "metadata": {
        "id": "rBVkqffbGlAx"
      },
      "source": [
        "## Compute Kernel\n",
        "\n",
        "The above algorithm is, actually, fairly straightforward to implement in Triton.\n",
        "The main difficulty comes from the computation of the memory locations at which blocks\n",
        "of :code:`A` and :code:`B` must be read in the inner loop. For that, we need\n",
        "multi-dimensional pointer arithmetics.\n",
        "\n",
        "### Pointer Arithmetics\n",
        "\n",
        "For a row-major 2D tensor :code:`X`, the memory location of :code:`X[i, j]` is given b\n",
        "y :code:`&X[i, j] = X + i*stride_xi + j*stride_xj`.\n",
        "Therefore, blocks of pointers for :code:`A[m : m+BLOCK_SIZE_M, k:k+BLOCK_SIZE_K]` and\n",
        ":code:`B[k : k+BLOCK_SIZE_K, n : n+BLOCK_SIZE_N]` can be defined in pseudo-code as:\n",
        "\n",
        " .. code-block:: python\n",
        "\n",
        "   &A[m : m+BLOCK_SIZE_M, k:k+BLOCK_SIZE_K] =  a_ptr + (m : m+BLOCK_SIZE_M)[:, None]*A.stride(0) + (k : k+BLOCK_SIZE_K)[None, :]*A.stride(1);\n",
        "   &B[k : k+BLOCK_SIZE_K, n:n+BLOCK_SIZE_N] =  b_ptr + (k : k+BLOCK_SIZE_K)[:, None]*B.stride(0) + (n : n+BLOCK_SIZE_N)[None, :]*B.stride(1);\n",
        "\n",
        "Which means that pointers for blocks of A and B can be initialized (i.e., :code:`k=0`) in Triton as:\n",
        "\n",
        " .. code-block:: python\n",
        "\n",
        "   offs_am = pid_m * BLOCK_SIZE_M + tl.arange(0, BLOCK_SIZE_M)\n",
        "   offs_bn = pid_n * BLOCK_SIZE_N + tl.arange(0, BLOCK_SIZE_N)\n",
        "   offs_k = tl.arange(0, BLOCK_SIZE_K)\n",
        "   a_ptrs = a_ptr + (offs_am[:, None]*stride_am + offs_k [None, :]*stride_ak)\n",
        "   b_ptrs = b_ptr + (offs_k [:, None]*stride_bk + offs_bn[None, :]*stride_bn)\n",
        "\n",
        "And then updated in the inner loop as follows:\n",
        "\n",
        " .. code-block:: python\n",
        "\n",
        "   pa += BLOCK_SIZE_K * stride_ak;\n",
        "   pb += BLOCK_SIZE_K * stride_bk;\n",
        "\n",
        "\n",
        "### L2 Cache Optimizations\n",
        "\n",
        "As mentioned above, each program instance computes a :code:`[BLOCK_SIZE_M, BLOCK_SIZE_N]`\n",
        "block of :code:`C`.\n",
        "It is important to remember that the order in which these blocks are computed does\n",
        "matter, since it affects the L2 cache hit rate of our program. and unfortunately, a\n",
        "a simple row-major ordering\n",
        "\n",
        " .. code-block:: Python\n",
        "\n",
        "   pid = triton.program_id(0);\n",
        "   grid_m = (M + BLOCK_SIZE_M - 1) // BLOCK_SIZE_M;\n",
        "   grid_n = (N + BLOCK_SIZE_N - 1) // BLOCK_SIZE_N;\n",
        "   pid_m = pid / grid_n;\n",
        "   pid_n = pid % grid_n;\n",
        "\n",
        "is just not going to cut it.\n",
        "\n",
        "One possible solution is to launch blocks in an order that promotes data reuse.\n",
        "This can be done by 'super-grouping' blocks in groups of :code:`GROUP_M` rows before\n",
        "switching to the next column:\n",
        "\n",
        " .. code-block:: python\n",
        "\n",
        "   # program ID\n",
        "   pid = tl.program_id(axis=0)\n",
        "   # number of program ids along the M axis\n",
        "   num_pid_m = tl.cdiv(M, BLOCK_SIZE_M)\n",
        "   # number of programs ids along the N axis\n",
        "   num_pid_n = tl.cdiv(N, BLOCK_SIZE_N)\n",
        "   # number of programs in group\n",
        "   num_pid_in_group = GROUP_SIZE_M * num_pid_n\n",
        "   # id of the group this program is in\n",
        "   group_id = pid // num_pid_in_group\n",
        "   # row-id of the first program in the group\n",
        "   first_pid_m = group_id * GROUP_SIZE_M\n",
        "   # if `num_pid_m` isn't divisible by `GROUP_SIZE_M`, the last group is smaller\n",
        "   group_size_m = min(num_pid_m - first_pid_m, GROUP_SIZE_M)\n",
        "   # *within groups*, programs are ordered in a column-major order\n",
        "   # row-id of the program in the *launch grid*\n",
        "   pid_m = first_pid_m + (pid % group_size_m)\n",
        "   # col-id of the program in the *launch grid*\n",
        "   pid_n = (pid % num_pid_in_group) // group_size_m\n",
        "\n",
        "For example, in the following matmul where each matrix is 9 blocks by 9 blocks,\n",
        "we can see that if we compute the output in row-major ordering, we need to load 90\n",
        "blocks into SRAM to compute the first 9 output blocks, but if we do it in grouped\n",
        "ordering, we only need to load 54 blocks.\n",
        "  .. image:: grouped_vs_row_major_ordering.png\n",
        "\n",
        "In practice, this can improve the performance of our matrix multiplication kernel by\n",
        "more than 10\\% on some hardware architecture (e.g., 220 to 245 TFLOPS on A100).\n",
        "\n",
        "\n"
      ]
    },
    {
      "cell_type": "markdown",
      "metadata": {
        "id": "xFEeZFf_GlAy"
      },
      "source": [
        "## Final Result\n",
        "\n",
        "\n"
      ]
    },
    {
      "cell_type": "code",
      "execution_count": 3,
      "metadata": {
        "id": "I2VZKb4gGlAz"
      },
      "outputs": [],
      "source": [
        "import pkg_resources\n",
        "# Import from latest release tag==2.0.0.dev20220206\n",
        "pkg_resources.require(\"triton==2.0.0.dev20220206\")\n",
        "\n",
        "import torch\n",
        "import triton\n",
        "import triton.language as tl\n",
        "\n",
        "# %\n",
        "# :code:`triton.jit`'ed functions can be auto-tuned by using the `triton.autotune`\n",
        "# decorator, which consumes:\n",
        "#   - A list of :code:`triton.Config` objects that define different configurations of\n",
        "#       meta-parameters (e.g., BLOCK_SIZE_M) and compilation options (e.g., num_warps) to try\n",
        "#   - An autotuning *key* whose change in values will trigger evaluation of all the\n",
        "#       provided configs\n",
        "\n",
        "\n",
        "@triton.autotune(\n",
        "    configs=[\n",
        "        triton.Config({'BLOCK_SIZE_M': 128, 'BLOCK_SIZE_N': 256, 'BLOCK_SIZE_K': 32, 'GROUP_SIZE_M': 8}, num_stages=3, num_warps=8),\n",
        "        triton.Config({'BLOCK_SIZE_M': 256, 'BLOCK_SIZE_N': 128, 'BLOCK_SIZE_K': 32, 'GROUP_SIZE_M': 8}, num_stages=3, num_warps=8),\n",
        "        triton.Config({'BLOCK_SIZE_M': 256, 'BLOCK_SIZE_N': 64, 'BLOCK_SIZE_K': 32, 'GROUP_SIZE_M': 8}, num_stages=4, num_warps=4),\n",
        "        triton.Config({'BLOCK_SIZE_M': 64, 'BLOCK_SIZE_N': 256, 'BLOCK_SIZE_K': 32, 'GROUP_SIZE_M': 8}, num_stages=4, num_warps=4),\n",
        "        triton.Config({'BLOCK_SIZE_M': 128, 'BLOCK_SIZE_N': 128, 'BLOCK_SIZE_K': 32, 'GROUP_SIZE_M': 8}, num_stages=4, num_warps=4),\n",
        "        triton.Config({'BLOCK_SIZE_M': 128, 'BLOCK_SIZE_N': 64, 'BLOCK_SIZE_K': 32, 'GROUP_SIZE_M': 8}, num_stages=4, num_warps=4),\n",
        "        triton.Config({'BLOCK_SIZE_M': 64, 'BLOCK_SIZE_N': 128, 'BLOCK_SIZE_K': 32, 'GROUP_SIZE_M': 8}, num_stages=4, num_warps=4),\n",
        "        triton.Config({'BLOCK_SIZE_M': 128, 'BLOCK_SIZE_N': 32, 'BLOCK_SIZE_K': 32, 'GROUP_SIZE_M': 8}, num_stages=4, num_warps=4),\n",
        "        triton.Config({'BLOCK_SIZE_M': 64, 'BLOCK_SIZE_N': 32, 'BLOCK_SIZE_K': 32, 'GROUP_SIZE_M': 8}, num_stages=5, num_warps=2),\n",
        "        triton.Config({'BLOCK_SIZE_M': 32, 'BLOCK_SIZE_N': 64, 'BLOCK_SIZE_K': 32, 'GROUP_SIZE_M': 8}, num_stages=5, num_warps=2),\n",
        "    ],\n",
        "    key=['M', 'N', 'K'],\n",
        ")\n",
        "@triton.jit\n",
        "def matmul_kernel(\n",
        "    # Pointers to matrices\n",
        "    a_ptr, b_ptr, c_ptr,\n",
        "    # Matrix dimensions\n",
        "    M, N, K,\n",
        "    # The stride variables represent how much to increase the ptr by when moving by 1\n",
        "    # element in a particular dimension. E.g. stride_am is how much to increase a_ptr\n",
        "    # by to get the element one row down (A has M rows)\n",
        "    stride_am, stride_ak,\n",
        "    stride_bk, stride_bn,\n",
        "    stride_cm, stride_cn,\n",
        "    # Meta-parameters\n",
        "    BLOCK_SIZE_M: tl.constexpr, BLOCK_SIZE_N: tl.constexpr, BLOCK_SIZE_K: tl.constexpr,\n",
        "    GROUP_SIZE_M: tl.constexpr,\n",
        "    ACTIVATION: tl.constexpr,\n",
        "):\n",
        "    \"\"\"Kernel for computing the matmul C = A x B.\n",
        "    A has shape (M, K), B has shape (K, N) and C has shape (M, N)\n",
        "    \"\"\"\n",
        "    # -----------------------------------------------------------\n",
        "    # Map program ids `pid` to the block of C it should compute.\n",
        "    # This is done in a grouped ordering to promote L2 data reuse\n",
        "    # See above `L2 Cache Optimizations` section for details\n",
        "    pid = tl.program_id(axis=0)\n",
        "    num_pid_m = tl.cdiv(M, BLOCK_SIZE_M)\n",
        "    num_pid_n = tl.cdiv(N, BLOCK_SIZE_N)\n",
        "    num_pid_in_group = GROUP_SIZE_M * num_pid_n\n",
        "    group_id = pid // num_pid_in_group\n",
        "    first_pid_m = group_id * GROUP_SIZE_M\n",
        "    group_size_m = min(num_pid_m - first_pid_m, GROUP_SIZE_M)\n",
        "    pid_m = first_pid_m + (pid % group_size_m)\n",
        "    pid_n = (pid % num_pid_in_group) // group_size_m\n",
        "\n",
        "    # ----------------------------------------------------------\n",
        "    # Create pointers for the first blocks of A and B.\n",
        "    # We will advance this pointer as we move in the K direction\n",
        "    # and accumulate\n",
        "    # a_ptrs is a block of [BLOCK_SIZE_M, BLOCK_SIZE_K] pointers\n",
        "    # b_ptrs is a block of [BLOCK_SIZE_K, BLOCK_SIZE_n] pointers\n",
        "    # see above `Pointer Arithmetics` section for details\n",
        "    offs_am = pid_m * BLOCK_SIZE_M + tl.arange(0, BLOCK_SIZE_M)\n",
        "    offs_bn = pid_n * BLOCK_SIZE_N + tl.arange(0, BLOCK_SIZE_N)\n",
        "    offs_k = tl.arange(0, BLOCK_SIZE_K)\n",
        "    a_ptrs = a_ptr + (offs_am[:, None] * stride_am + offs_k[None, :] * stride_ak)\n",
        "    b_ptrs = b_ptr + (offs_k[:, None] * stride_bk + offs_bn[None, :] * stride_bn)\n",
        "\n",
        "    # -----------------------------------------------------------\n",
        "    # Iterate to compute a block of the C matrix\n",
        "    # We accumulate into a `[BLOCK_SIZE_M, BLOCK_SIZE_N]` block\n",
        "    # of fp32 values for higher accuracy.\n",
        "    # `accumulator` will be converted back to fp16 after the loop\n",
        "    accumulator = tl.zeros((BLOCK_SIZE_M, BLOCK_SIZE_N), dtype=tl.float32)\n",
        "    for k in range(0, K, BLOCK_SIZE_K):\n",
        "        # Note that for simplicity, we don't apply a mask here.\n",
        "        # This means that if K is not a multiple of BLOCK_SIZE_K,\n",
        "        # this will access out-of-bounds memory and produce an\n",
        "        # error or (worse!) incorrect results.\n",
        "        a = tl.load(a_ptrs)\n",
        "        b = tl.load(b_ptrs)\n",
        "        # We accumulate along the K dimension\n",
        "        accumulator += tl.dot(a, b)\n",
        "        # Advance the ptrs to the next K block\n",
        "        a_ptrs += BLOCK_SIZE_K * stride_ak\n",
        "        b_ptrs += BLOCK_SIZE_K * stride_bk\n",
        "    # you can fuse arbitrary activation functions here\n",
        "    # while the accumulator is still in FP32!\n",
        "    if ACTIVATION:\n",
        "        accumulator = ACTIVATION(accumulator)\n",
        "    c = accumulator.to(tl.float16)\n",
        "\n",
        "    # -----------------------------------------------------------\n",
        "    # Write back the block of the output matrix C\n",
        "    offs_cm = pid_m * BLOCK_SIZE_M + tl.arange(0, BLOCK_SIZE_M)\n",
        "    offs_cn = pid_n * BLOCK_SIZE_N + tl.arange(0, BLOCK_SIZE_N)\n",
        "    c_ptrs = c_ptr + stride_cm * offs_cm[:, None] + stride_cn * offs_cn[None, :]\n",
        "    c_mask = (offs_cm[:, None] < M) & (offs_cn[None, :] < N)\n",
        "    tl.store(c_ptrs, c, mask=c_mask)\n",
        "\n",
        "\n",
        "# we can fuse `leaky_relu` by providing it as an `ACTIVATION` meta-parameter in `_matmul`\n",
        "@triton.jit\n",
        "def leaky_relu(x):\n",
        "    return tl.where(x >= 0, x, 0.01 * x)"
      ]
    },
    {
      "cell_type": "markdown",
      "metadata": {
        "id": "cKu9rX0RGlA0"
      },
      "source": [
        "We can now create a convenience wrapper function that only takes two input tensors\n",
        "and (1) checks any shape constraint; (2) allocates the output; (3) launches the above kernel\n",
        "\n"
      ]
    },
    {
      "cell_type": "code",
      "execution_count": 1,
      "metadata": {
        "id": "lGwbzmPGGlA0"
      },
      "outputs": [],
      "source": [
        "def matmul(a, b, activation=None):\n",
        "    # checks constraints\n",
        "    assert a.shape[1] == b.shape[0], \"incompatible dimensions\"\n",
        "    assert a.is_contiguous(), \"matrix A must be contiguous\"\n",
        "    assert b.is_contiguous(), \"matrix B must be contiguous\"\n",
        "    M, K = a.shape\n",
        "    K, N = b.shape\n",
        "    assert (\n",
        "        K % 32 == 0\n",
        "    ), \"We don't check memory-out-of-bounds with K so K must be divisible by BLOCK_SIZE_K\"\n",
        "    # allocates output\n",
        "    c = torch.empty((M, N), device=a.device, dtype=a.dtype)\n",
        "    # 1D launch kernel where each block gets its own program.\n",
        "    grid = lambda META: (\n",
        "        triton.cdiv(M, META['BLOCK_SIZE_M']) * triton.cdiv(N, META['BLOCK_SIZE_N']),\n",
        "    )\n",
        "    matmul_kernel[grid](\n",
        "        a, b, c,\n",
        "        M, N, K,\n",
        "        a.stride(0), a.stride(1),\n",
        "        b.stride(0), b.stride(1),\n",
        "        c.stride(0), c.stride(1),\n",
        "        ACTIVATION=activation,\n",
        "    )\n",
        "    return c"
      ]
    },
    {
      "cell_type": "markdown",
      "metadata": {
        "id": "2xEi0NXPGlA0"
      },
      "source": [
        "## Unit Test\n",
        "\n",
        "We can test our custom matrix multiplication operation against a native torch implementation (i.e., cuBLAS)\n",
        "\n"
      ]
    },
    {
      "cell_type": "code",
      "execution_count": null,
      "metadata": {
        "id": "Gv-K5XwTGlA0"
      },
      "outputs": [],
      "source": [
        "torch.manual_seed(0)\n",
        "a = torch.randn((512, 512), device='cuda', dtype=torch.float16)\n",
        "b = torch.randn((512, 512), device='cuda', dtype=torch.float16)\n",
        "triton_output = matmul(a, b, activation=None)\n",
        "torch_output = torch.matmul(a, b)\n",
        "print(f\"triton_output={triton_output}\")\n",
        "print(f\"torch_output={torch_output}\")\n",
        "if triton.testing.allclose(triton_output, torch_output):\n",
        "    print(\"✅ Triton and Torch match\")\n",
        "else:\n",
        "    print(\"❌ Triton and Torch differ\")"
      ]
    },
    {
      "cell_type": "markdown",
      "metadata": {
        "id": "FLQdM4GKGlA1"
      },
      "source": [
        "## Benchmark\n",
        "\n",
        "### Square Matrix Performance\n",
        "We can now compare the performance of our kernel against that of cuBLAS. Here we focus on square matrices, but feel free to arrange this script as you wish to benchmark any other matrix shape.\n",
        "\n"
      ]
    },
    {
      "cell_type": "code",
      "execution_count": 2,
      "metadata": {
        "id": "Xu-1EpCHGlA1",
        "colab": {
          "base_uri": "https://localhost:8080/",
          "height": 236
        },
        "outputId": "3e057924-e79c-49e7-c52c-2c35b72d3ea0"
      },
      "outputs": [
        {
          "output_type": "error",
          "ename": "NameError",
          "evalue": "ignored",
          "traceback": [
            "\u001b[0;31m---------------------------------------------------------------------------\u001b[0m",
            "\u001b[0;31mNameError\u001b[0m                                 Traceback (most recent call last)",
            "\u001b[0;32m<ipython-input-2-b698a1c63add>\u001b[0m in \u001b[0;36m<module>\u001b[0;34m()\u001b[0m\n\u001b[0;32m----> 1\u001b[0;31m @triton.testing.perf_report(\n\u001b[0m\u001b[1;32m      2\u001b[0m     triton.testing.Benchmark(\n\u001b[1;32m      3\u001b[0m         \u001b[0mx_names\u001b[0m\u001b[0;34m=\u001b[0m\u001b[0;34m[\u001b[0m\u001b[0;34m'M'\u001b[0m\u001b[0;34m,\u001b[0m \u001b[0;34m'N'\u001b[0m\u001b[0;34m,\u001b[0m \u001b[0;34m'K'\u001b[0m\u001b[0;34m]\u001b[0m\u001b[0;34m,\u001b[0m  \u001b[0;31m# argument names to use as an x-axis for the plot\u001b[0m\u001b[0;34m\u001b[0m\u001b[0;34m\u001b[0m\u001b[0m\n\u001b[1;32m      4\u001b[0m         x_vals=[\n\u001b[1;32m      5\u001b[0m             \u001b[0;36m128\u001b[0m \u001b[0;34m*\u001b[0m \u001b[0mi\u001b[0m \u001b[0;32mfor\u001b[0m \u001b[0mi\u001b[0m \u001b[0;32min\u001b[0m \u001b[0mrange\u001b[0m\u001b[0;34m(\u001b[0m\u001b[0;36m2\u001b[0m\u001b[0;34m,\u001b[0m \u001b[0;36m33\u001b[0m\u001b[0;34m)\u001b[0m\u001b[0;34m\u001b[0m\u001b[0;34m\u001b[0m\u001b[0m\n",
            "\u001b[0;31mNameError\u001b[0m: name 'triton' is not defined"
          ]
        }
      ],
      "source": [
        "@triton.testing.perf_report(\n",
        "    triton.testing.Benchmark(\n",
        "        x_names=['M', 'N', 'K'],  # argument names to use as an x-axis for the plot\n",
        "        x_vals=[\n",
        "            128 * i for i in range(2, 33)\n",
        "        ],  # different possible values for `x_name`\n",
        "        line_arg='provider',  # argument name whose value corresponds to a different line in the plot\n",
        "        # possible values for `line_arg``\n",
        "        line_vals=['cublas', 'cublas + relu', 'triton', 'triton + relu'],\n",
        "        # label name for the lines\n",
        "        line_names=[\"cuBLAS\", \"cuBLAS (+ torch.nn.LeakyReLU)\", \"Triton\", \"Triton (+ LeakyReLU)\"],\n",
        "        # line styles\n",
        "        styles=[('green', '-'), ('green', '--'), ('blue', '-'), ('blue', '--')],\n",
        "        ylabel=\"TFLOPS\",  # label name for the y-axis\n",
        "        plot_name=\"matmul-performance\",  # name for the plot. Used also as a file name for saving the plot.\n",
        "        args={},\n",
        "    )\n",
        ")\n",
        "def benchmark(M, N, K, provider):\n",
        "    a = torch.randn((M, K), device='cuda', dtype=torch.float16)\n",
        "    b = torch.randn((K, N), device='cuda', dtype=torch.float16)\n",
        "    if provider == 'cublas':\n",
        "        ms, min_ms, max_ms = triton.testing.do_bench(lambda: torch.matmul(a, b))\n",
        "    if provider == 'triton':\n",
        "        ms, min_ms, max_ms = triton.testing.do_bench(lambda: matmul(a, b))\n",
        "    if provider == 'cublas + relu':\n",
        "        torch_relu = torch.nn.ReLU(inplace=True)\n",
        "        ms, min_ms, max_ms = triton.testing.do_bench(\n",
        "            lambda: torch_relu(torch.matmul(a, b))\n",
        "        )\n",
        "    if provider == 'triton + relu':\n",
        "        ms, min_ms, max_ms = triton.testing.do_bench(\n",
        "            lambda: matmul(a, b, activation=leaky_relu)\n",
        "        )\n",
        "    perf = lambda ms: 2 * M * N * K * 1e-12 / (ms * 1e-3)\n",
        "    return perf(ms), perf(max_ms), perf(min_ms)\n",
        "\n",
        "\n",
        "benchmark.run(show_plots=True, print_data=True)"
      ]
    }
  ],
  "metadata": {
    "kernelspec": {
      "display_name": "Python 3",
      "language": "python",
      "name": "python3"
    },
    "language_info": {
      "codemirror_mode": {
        "name": "ipython",
        "version": 3
      },
      "file_extension": ".py",
      "mimetype": "text/x-python",
      "name": "python",
      "nbconvert_exporter": "python",
      "pygments_lexer": "ipython3",
      "version": "3.8.10"
    },
    "colab": {
      "name": "03-matrix-multiplication.ipynb",
      "provenance": []
    },
    "accelerator": "GPU"
  },
  "nbformat": 4,
  "nbformat_minor": 0
}